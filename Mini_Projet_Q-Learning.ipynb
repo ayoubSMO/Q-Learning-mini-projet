{
 "cells": [
  {
   "cell_type": "code",
   "execution_count": null,
   "id": "1f2ac0c2",
   "metadata": {},
   "outputs": [],
   "source": [
    "import numpy as np \n",
    "import math \n",
    "import random"
   ]
  },
  {
   "cell_type": "code",
   "execution_count": 125,
   "id": "23bd113c",
   "metadata": {},
   "outputs": [],
   "source": [
    "# matrice des rewards \n",
    "\n",
    "MAP_SIZE = 10\n",
    "\n",
    "rewards = np.matrix(np.zeros(shape =(MAP_SIZE ,MAP_SIZE)))\n",
    "\n",
    "# Q table\n",
    "q_table = np.zeros((MAP_SIZE,MAP_SIZE,4))\n",
    "# les actions dans la map \n",
    "actions = ['H' ,'D' ,'B' ,'G'] # haut , droite ,bas ,gauche"
   ]
  },
  {
   "cell_type": "code",
   "execution_count": 126,
   "id": "40f44b22",
   "metadata": {},
   "outputs": [],
   "source": [
    "# position des obstacles \n",
    "obsList = [[0,5] ,[0,6] ,[3,3], [3,4] ,[6,5] ,[6,6]]\n",
    "goal = (9,9)\n",
    "for obs in obsList :\n",
    "    rewards[obs[0] ,obs[1]] = 1\n",
    "\n",
    "#remplire les rewards \n",
    "# -10 si la position contient u postacle \n",
    "# 100 si la position est de l'objectif\n",
    "rewards[rewards == 1] = -10\n",
    "rewards[9,9] = 100\n"
   ]
  },
  {
   "cell_type": "code",
   "execution_count": 97,
   "id": "a7b6a441",
   "metadata": {},
   "outputs": [],
   "source": [
    "# check if the position is final \n",
    "\n",
    "def goalPosition(currentLigne ,currentColumn):\n",
    "    if rewards[currentLigne ,currentColumn] == 100:\n",
    "        return True\n",
    "    return False"
   ]
  },
  {
   "cell_type": "code",
   "execution_count": 127,
   "id": "11df4b1d",
   "metadata": {},
   "outputs": [],
   "source": [
    "# fonction qui calcule la disatance euclident entre deux points \n",
    "\n",
    "def distance_eucl (point1 ,point2):\n",
    "    return (math.sqrt((math.pow((point1[0] - point2[0]),2) + math.pow((point1[1] - point2[1]),2))))\n",
    "\n"
   ]
  },
  {
   "cell_type": "code",
   "execution_count": 99,
   "id": "875cabfb",
   "metadata": {},
   "outputs": [],
   "source": [
    "# remplir les valeurs de rewards \n",
    "\n",
    "for i in range(MAP_SIZE):\n",
    "    for j in range(MAP_SIZE):\n",
    "        if rewards[i ,j] == 0:\n",
    "            rewards[i,j] = 1/math.sqrt((math.pow((i - 9),2) + math.pow((j - 9),2)))"
   ]
  },
  {
   "cell_type": "code",
   "execution_count": null,
   "id": "eee98692",
   "metadata": {},
   "outputs": [],
   "source": []
  },
  {
   "cell_type": "code",
   "execution_count": 113,
   "id": "984c02e8",
   "metadata": {},
   "outputs": [],
   "source": [
    "#\n",
    "def init():\n",
    "    # choisir une position initial aléatoirement\n",
    "    # \n",
    "    currentLigne = random.randint(0,9)\n",
    "    currentColumn = random.randint(0,9)\n",
    "    while goalPosition(currentLigne ,currentColumn) :\n",
    "        currentLigne = random.randint(0,9)\n",
    "        currentColumn = random.randint(0,9)\n",
    "    \n",
    "    return currentLigne ,currentColumn\n",
    "\n",
    "        "
   ]
  },
  {
   "cell_type": "code",
   "execution_count": 101,
   "id": "003fd85b",
   "metadata": {},
   "outputs": [],
   "source": [
    "#choisir la position de l'action suivant \n",
    "# B H D G \n",
    "\n",
    "def nextAction(currentLigne ,currentColumn ,epsilon):\n",
    "    if random.random() < epsilon :\n",
    "        return np.argmax(q_table[currentLigne ,currentColumn])\n",
    "    else:\n",
    "        return random.randint(0,3)"
   ]
  },
  {
   "cell_type": "code",
   "execution_count": 102,
   "id": "2485222d",
   "metadata": {},
   "outputs": [],
   "source": [
    "def nextPosition (currentLigne ,currentColumn ,action_):\n",
    "    nextLigne = currentLigne\n",
    "    nextColumn = currentColumn\n",
    "    \n",
    "    if actions[action_] == 'H' and currentLigne > 0 : # si l'action est en haut et la position ne coincide pas avec le mure !\n",
    "        nextLigne -= 1\n",
    "    \n",
    "    elif actions[action_] == 'D' and currentColumn < 9 :\n",
    "        nextColumn += 1\n",
    "        \n",
    "    elif actions[action_]=='B' and currentLigne < 9 :\n",
    "        nextLigne += 1\n",
    "    \n",
    "    \n",
    "    elif actions[action_]=='G' and currentColumn > 0 :\n",
    "        nextColumn -= 1\n",
    "    \n",
    "    return nextLigne ,nextColumn"
   ]
  },
  {
   "cell_type": "code",
   "execution_count": 123,
   "id": "04fb687a",
   "metadata": {},
   "outputs": [],
   "source": [
    "def chemin(startLigne ,startColumn):  \n",
    "    if goalPosition(startLigne ,startColumn):\n",
    "        return []\n",
    "    else :\n",
    "        trajet = []\n",
    "        currentLigne ,currentColumn = startLigne ,startColumn\n",
    "        trajet.append([currentLigne ,currentColumn])\n",
    "        \n",
    "        while not goalPosition(currentLigne ,currentColumn):\n",
    "            action_ = nextAction(currentLigne,currentColumn ,1.)\n",
    "            currentLigne ,currentColumn = nextPosition(currentLigne ,currentColumn ,action_)\n",
    "            trajet.append([currentLigne ,currentColumn])\n",
    "            \n",
    "        return trajet"
   ]
  },
  {
   "cell_type": "code",
   "execution_count": null,
   "id": "5baa3ef3",
   "metadata": {},
   "outputs": [],
   "source": [
    "\n",
    "epsilon = 0.9\n",
    "lamda = 0.9\n",
    "learningRate = 0.9\n",
    "\n",
    "\n",
    "\n",
    "for i in range (1000):\n",
    "    x ,y = init()\n",
    "    \n",
    "    while not goalPosition(x ,y):\n",
    "        action_ = nextAction(x ,y ,epsilon)\n",
    "        recentLigne ,recentColumn = x , y\n",
    "        x ,y = nextPosition(x ,y ,action_)\n",
    "        reward = rewards[x ,y]\n",
    "        recentQvalue = q_table[recentLigne ,recentColumn ,action_]\n",
    "        \n",
    "        newQvalue = recentQvalue + (learningRate * (reward + (lamda * np.max(q_table[x,y])) - recentQvalue)) \n",
    "        q_table[recentLigne ,recentColumn ,action_] = newQvalue\n",
    "                                    \n",
    "\n",
    "#print(q_table)                                    \n",
    "#chemin(0,0)\n",
    "                                \n",
    "    \n",
    "\n"
   ]
  },
  {
   "cell_type": "code",
   "execution_count": null,
   "id": "09c963d4",
   "metadata": {},
   "outputs": [],
   "source": []
  },
  {
   "cell_type": "code",
   "execution_count": null,
   "id": "aa00b3ee",
   "metadata": {},
   "outputs": [],
   "source": []
  }
 ],
 "metadata": {
  "kernelspec": {
   "display_name": "Python 3",
   "language": "python",
   "name": "python3"
  },
  "language_info": {
   "codemirror_mode": {
    "name": "ipython",
    "version": 3
   },
   "file_extension": ".py",
   "mimetype": "text/x-python",
   "name": "python",
   "nbconvert_exporter": "python",
   "pygments_lexer": "ipython3",
   "version": "3.8.8"
  }
 },
 "nbformat": 4,
 "nbformat_minor": 5
}
